{
 "cells": [
  {
   "cell_type": "markdown",
   "metadata": {},
   "source": [
    "5-ExamplePythonAPI_BalancingRobot.ipynb\n",
    "\n",
    "    v0  2021-29-06  Mohamed Amghar et Alexis Boisseau "
   ]
  },
  {
   "cell_type": "markdown",
   "metadata": {
    "collapsed": true
   },
   "source": [
    "# API Python BalancingRobot"
   ]
  },
  {
   "cell_type": "markdown",
   "metadata": {},
   "source": [
    "This notebook imports 2 modules from the directory `coppeliasim/env` :\n",
    "- sim.py\n",
    "- simConst.py \n",
    "\n",
    "It also needs the appropriate remote API library: \"remoteApi.dll\" (Windows), \"remoteApi.dylib\" (Mac) or \"remoteApi.so\" (Linux)\n",
    "\n",
    "The CoppeliaSim Python API is documented here: http://www.coppeliarobotics.com/helpFiles/en/remoteApiFunctionsPython.htm"
   ]
  },
  {
   "cell_type": "markdown",
   "metadata": {},
   "source": [
    "The cell bellow finds the relative path of the directory `coppeliasim_api/env` where the modules `sim` and `simConst` live:<br>\n",
    "if not found in the current working dir it tries recursively to find a parent directory that holds `coppeliasim/env`.<br>\n",
    "When found, it sets `root_dir` to this value and adds relevant paths to the list sys.path:"
   ]
  },
  {
   "cell_type": "code",
   "execution_count": 1,
   "metadata": {},
   "outputs": [
    {
     "output_type": "stream",
     "name": "stdout",
     "text": [
      "\troot directory: <../../>\n\tworking directory is now: </home/alexis/ENSEIRB/2A/StagePERSEUS/miniapterros>\n"
     ]
    }
   ],
   "source": [
    "import sys, os\n",
    "\n",
    "# initialize default path values:\n",
    "target_dir = \"coppeliasim_api/env\"\n",
    "root_dir = os.getcwd()\n",
    "copsim_env_path = target_dir\n",
    "\n",
    "if not os.path.isdir(target_dir):\n",
    "    while not os.path.isdir(copsim_env_path):\n",
    "        copsim_env_path = os.path.join('..', copsim_env_path)\n",
    "    root_dir = copsim_env_path.replace(target_dir, \"\")\n",
    "\n",
    "# run notebook in root dir and add the required paths to sys.path:\n",
    "if  root_dir !=  os.getcwd():  \n",
    "    os.chdir(root_dir)\n",
    "    sys.path.append(root_dir)\n",
    "    sys.path.append(target_dir)\n",
    "\n",
    "print(f\"\\troot directory: <{root_dir}>\")\n",
    "print(f\"\\tworking directory is now: <{os.getcwd()}>\")\n",
    "\n",
    "# automatic reload of modules when modification\n",
    "%load_ext autoreload\n",
    "%autoreload 2"
   ]
  },
  {
   "cell_type": "code",
   "execution_count": 2,
   "metadata": {},
   "outputs": [],
   "source": [
    "try:\n",
    "    import sim\n",
    "except:\n",
    "    print ('--------------------------------------------------------------')\n",
    "    print ('\"sim.py\" could not be imported.')\n",
    "    print ('--------------------------------------------------------------')\n",
    "    print ('')\n",
    "    raise\n",
    "\n",
    "import time, sys\n",
    "import numpy as np\n",
    "from CopSim import Simulator\n",
    "\n",
    "error_mess = 'Remote API error code: '\n",
    "OK = sim.simx_return_ok\n",
    "\n",
    "opmode_blocking    = sim.simx_opmode_blocking\n",
    "opmode_oneshot     = sim.simx_opmode_oneshot\n",
    "opmode_buffer      = sim.simx_opmode_buffer\n",
    "opmode_streaming   = sim.simx_opmode_streaming\n",
    "opmode_discontinue = sim.simx_opmode_discontinue"
   ]
  },
  {
   "cell_type": "markdown",
   "metadata": {},
   "source": [
    "## >>> Automatic launch of a CoppeliaSim instance:\n",
    "\n",
    "**Only for Linux** !!! <br>\n",
    "=> Windows & Mac : run CoppeliaSim \"by hand\" and go to the cell \"Connection to the CoppeliaSim simulator...<br><br>\n",
    "The file `constants.py` in `coppeliasim_api/env` sets COPSIM_DIR to the name of the CoppeliaSim installation directory... modify it as needed."
   ]
  },
  {
   "cell_type": "code",
   "execution_count": 3,
   "metadata": {},
   "outputs": [
    {
     "output_type": "stream",
     "name": "stdout",
     "text": [
      "CoppeliaSim installation found in directory <CoppeliaSim_Edu_V4_2_0_Ubuntu20_04>\n",
      "[CopSim] starting an instance of CoppeliaSim...\n",
      "[Instance] trying to start <./coppeliaSim.sh -gREMOTEAPISERVERSERVICE_19997_FALSE_TRUE -vnone>\n",
      "[CopSim] CoppeliaSim instance started, remote API connection OK.\n"
     ]
    }
   ],
   "source": [
    "import platform\n",
    "if platform.system() =='Linux':\n",
    "    # LINUX CUSTOMIZE : the file 'constants.py' from 'coppeliasim_api/env' sets COPSIM_DIR \n",
    "    # to the name of the CoppeliaSim installation directory : modify it as needed...\n",
    "    from constants import COPSIM_DIR\n",
    "    print(f\"CoppeliaSim installation found in directory <{COPSIM_DIR}>\")\n",
    "    simulator = Simulator(19997, COPSIM_DIR, headless=False, verbose=1)\n",
    "    simulator.start()\n",
    "else:\n",
    "    print(\"\"\"Only for Linux platform !!!\n",
    "Windows & Mac : run CoppeliaSim \"by hand\" and go to the cell \"Connection to the CoppeliaSim simulator...\"\"\")    "
   ]
  },
  {
   "cell_type": "markdown",
   "metadata": {},
   "source": [
    "## Connection to the CoppeliaSim simulator:"
   ]
  },
  {
   "cell_type": "code",
   "execution_count": 4,
   "metadata": {},
   "outputs": [
    {
     "output_type": "stream",
     "name": "stdout",
     "text": [
      "Successfully connected to the remote CoppeliaSim server with clientID=0\n"
     ]
    }
   ],
   "source": [
    "sim.simxFinish(-1) # just in case, close all opened connections\n",
    "\n",
    "clientID = sim.simxStart('127.0.0.1',19997,True,True,5000,5) # Connect to V-REP\n",
    "\n",
    "if clientID == -1:\n",
    "    print ('NOT Connected to remote API server')\n",
    "    sys.exit(\"Could not connect\")\n",
    "else:\n",
    "    print ('Successfully connected to the remote CoppeliaSim server with clientID={}'.format(clientID))"
   ]
  },
  {
   "cell_type": "markdown",
   "metadata": {},
   "source": [
    "## API-Python : function simxLoadScene"
   ]
  },
  {
   "cell_type": "markdown",
   "metadata": {},
   "source": [
    "## simxLoadScene"
   ]
  },
  {
   "cell_type": "code",
   "execution_count": 5,
   "metadata": {},
   "outputs": [
    {
     "output_type": "stream",
     "name": "stdout",
     "text": [
      "Scene <./balancing_robot/copsim/Balancing-robot.ttt> successfully loaded !\n"
     ]
    }
   ],
   "source": [
    "scene = \"./balancing_robot/copsim/Balancing-robot.ttt\"\n",
    "res = sim.simxLoadScene(clientID, scene, 0xFF, opmode_blocking)\n",
    "if res == OK:\n",
    "    print ('Scene <{}> successfully loaded !'.format(scene))\n",
    "else:\n",
    "    print (error_mess, res)"
   ]
  },
  {
   "cell_type": "markdown",
   "metadata": {},
   "source": [
    "### Obtenir les handles "
   ]
  },
  {
   "cell_type": "code",
   "execution_count": 6,
   "metadata": {},
   "outputs": [
    {
     "output_type": "stream",
     "name": "stdout",
     "text": [
      "Handles:\n\tJoint_R: 15, Wheel_R: 18\n\tJoint_L: 16, Wheel_L: 17\n\tPlanche4: 19\n"
     ]
    }
   ],
   "source": [
    "res, joint_r = sim.simxGetObjectHandle(clientID, \"Joint_R\", opmode_blocking)\n",
    "if res != OK: print (error_mess, res)\n",
    "\n",
    "res, joint_l = sim.simxGetObjectHandle(clientID, \"Joint_L\", opmode_blocking)\n",
    "if res != OK: print (error_mess, res)\n",
    "\n",
    "res, robot = sim.simxGetObjectHandle(clientID, \"Planche4\", opmode_blocking)\n",
    "if res != OK: print (error_mess, res)\n",
    "\n",
    "res, wheel_r = sim.simxGetObjectHandle(clientID, \"Wheel_R\", opmode_blocking)\n",
    "if res != OK: print (error_mess, res)\n",
    "\n",
    "res, wheel_l = sim.simxGetObjectHandle(clientID, \"Wheel_L\", opmode_blocking)\n",
    "if res != OK: print (error_mess, res)\n",
    "\n",
    "print (f'Handles:\\n\\tJoint_R: {joint_r}, Wheel_R: {wheel_r}')\n",
    "print (f'\\tJoint_L: {joint_l}, Wheel_L: {wheel_l}')\n",
    "print (f'\\tPlanche4: {robot}')"
   ]
  },
  {
   "cell_type": "markdown",
   "metadata": {},
   "source": [
    "### Obtenir l'inclinaison du robot"
   ]
  },
  {
   "cell_type": "code",
   "execution_count": 7,
   "metadata": {},
   "outputs": [
    {
     "output_type": "stream",
     "name": "stdout",
     "text": [
      "Robot orientation (Euler angles (x,y,z)): [-5.632641114061698e-05, 1.0913936421275139e-11, -1.5707967281341553] [rad]\nRobot angle on x axis:  0.00 rad or  0.00 °\n"
     ]
    }
   ],
   "source": [
    "res, orientation = sim.simxGetObjectOrientation(clientID, robot, -1, opmode_blocking)\n",
    "if res == OK:\n",
    "    print(f\"Robot orientation (Euler angles (x,y,z)): {orientation} [rad]\")\n",
    "    print(f\"Robot angle on x axis: {orientation[1]:5.2f} rad or {np.degrees(orientation[1]):5.2f} °\")\n",
    "else:\n",
    "    print (error_mess, res)"
   ]
  },
  {
   "cell_type": "markdown",
   "metadata": {},
   "source": [
    "### Modifier l'inclinaison du robot"
   ]
  },
  {
   "cell_type": "code",
   "execution_count": 8,
   "metadata": {},
   "outputs": [
    {
     "output_type": "stream",
     "name": "stdout",
     "text": [
      "Robot orientation (Euler angles (x,y,z)): [-0.0, 1.0, -0.0]\nRobot angle on x axis:  1.00\n"
     ]
    }
   ],
   "source": [
    "target_orientation = [0.0, 1.0, 0.0]  # Euler angles in radian\n",
    "sim.simxSetObjectOrientation(clientID, robot, -1, target_orientation, opmode_oneshot)\n",
    "\n",
    "res, val_after = sim.simxGetObjectOrientation(clientID, robot, -1, opmode_blocking)\n",
    "if res == OK:\n",
    "    print(f\"Robot orientation (Euler angles (x,y,z)): {val_after}\")\n",
    "    print(f\"Robot angle on x axis: {val_after[1]:5.2f}\")\n",
    "else:\n",
    "    print (error_mess, res)"
   ]
  },
  {
   "cell_type": "markdown",
   "metadata": {},
   "source": [
    "## Obtenir l'état du robot (position, angles et leurs dérivées)"
   ]
  },
  {
   "cell_type": "markdown",
   "metadata": {},
   "source": [
    "### Get X position:"
   ]
  },
  {
   "cell_type": "code",
   "execution_count": 9,
   "metadata": {},
   "outputs": [
    {
     "output_type": "stream",
     "name": "stdout",
     "text": [
      "Robot position vector [x,y,z]: [7.450580596923828e-09, -1.1920928955078125e-07, 0.11910025775432587] [m]\nRobot x position  0.000 [m]\n"
     ]
    }
   ],
   "source": [
    "res, pos = sim.simxGetObjectPosition(clientID, robot, -1, opmode_blocking) # x: robot position vector\n",
    "if res == OK:\n",
    "    print(f\"Robot position vector [x,y,z]: {pos} [m]\")\n",
    "    print(f\"Robot x position {pos[0]:6.3f} [m]\")\n",
    "else:\n",
    "    print (error_mess, res)"
   ]
  },
  {
   "cell_type": "markdown",
   "metadata": {},
   "source": [
    "### Get theta angle:"
   ]
  },
  {
   "cell_type": "code",
   "execution_count": 10,
   "metadata": {},
   "outputs": [
    {
     "output_type": "stream",
     "name": "stdout",
     "text": [
      "Robot orientation (Euler angles)): [-0.0, 1.0, -0.0] [rad]\nRobot angle 'theta' :  1.00 rad or 57.30 °\n"
     ]
    }
   ],
   "source": [
    "res, orientation = sim.simxGetObjectOrientation(clientID, robot, -1, opmode_blocking)\n",
    "if res == OK:\n",
    "    print(f\"Robot orientation (Euler angles)): {orientation} [rad]\")\n",
    "    print(f\"Robot angle 'theta' : {orientation[1]:5.2f} rad or {np.degrees(orientation[1]):5.2f} °\")\n",
    "else:\n",
    "    print (error_mess, res)"
   ]
  },
  {
   "cell_type": "markdown",
   "metadata": {},
   "source": [
    "### Get linear & angular velocity:"
   ]
  },
  {
   "cell_type": "code",
   "execution_count": 11,
   "metadata": {},
   "outputs": [
    {
     "output_type": "stream",
     "name": "stdout",
     "text": [
      "Robot velocity\n\tlinear : [0.0, 0.0, 0.0] [m/s],\n\tangular: [0.0, 0.0, 0.0] [rad/s]\nRobot linear  velocity (X')    :  0.00 [m/s]\nRobot angular velocity (theta'):  0.00 [rad/s]\n"
     ]
    }
   ],
   "source": [
    "res, lin_vel, ang_vel = sim.simxGetObjectVelocity(clientID, robot, opmode_blocking) \n",
    "if res == OK:\n",
    "    print(f\"Robot velocity\\n\\tlinear : {lin_vel} [m/s],\\n\\tangular: {ang_vel} [rad/s]\")\n",
    "    print(f\"Robot linear  velocity (X')    : {lin_vel[0]: 5.2f} [m/s]\")\n",
    "    print(f\"Robot angular velocity (theta'): {lin_vel[0]: 5.2f} [rad/s]\")\n",
    "else:\n",
    "    print (error_mess, res)"
   ]
  },
  {
   "cell_type": "markdown",
   "metadata": {},
   "source": [
    "### Robot state vector $(x, x', \\theta, \\theta')$:"
   ]
  },
  {
   "cell_type": "code",
   "execution_count": 12,
   "metadata": {},
   "outputs": [
    {
     "output_type": "stream",
     "name": "stdout",
     "text": [
      "Robot state: (0.0,0.0,1.0, 0.0)\n"
     ]
    }
   ],
   "source": [
    "res, alpha = sim.simxGetJointPosition(clientID, joint_l, opmode_blocking) \n",
    "res, _, alpha_dot = sim.simxGetObjectVelocity(clientID, joint_l, opmode_blocking) \n",
    "res, orientation = sim.simxGetObjectOrientation(clientID, robot, -1, opmode_blocking)\n",
    "res, lin_vel, ang_vel = sim.simxGetObjectVelocity(clientID, robot, opmode_blocking) \n",
    "R = 4.5e-2 #rayon de la roue\n",
    "if res == OK:\n",
    "    x = R*alpha\n",
    "    x_dot = R*alpha_dot[2]\n",
    "    theta = orientation[1]\n",
    "    theta_dot = ang_vel[0]\n",
    "    print(f\"Robot state: ({x},{x_dot},{theta}, {theta_dot})\")\n",
    "else:\n",
    "    print (error_mess, res)"
   ]
  },
  {
   "cell_type": "markdown",
   "metadata": {},
   "source": [
    "### Fixer une vitesse de rotation des roues (via les deux joints)"
   ]
  },
  {
   "cell_type": "code",
   "execution_count": 15,
   "metadata": {},
   "outputs": [
    {
     "output_type": "execute_result",
     "data": {
      "text/plain": [
       "0"
      ]
     },
     "metadata": {},
     "execution_count": 15
    }
   ],
   "source": [
    "sim.simxSetJointTargetVelocity(clientID, joint_l, 50, opmode_oneshot)\n",
    "sim.simxSetJointTargetVelocity(clientID, joint_r, 50, opmode_oneshot)"
   ]
  },
  {
   "cell_type": "markdown",
   "metadata": {},
   "source": [
    "## simxCloseScene"
   ]
  },
  {
   "cell_type": "code",
   "execution_count": null,
   "metadata": {},
   "outputs": [],
   "source": [
    "res = sim.simxCloseScene(clientID, opmode_blocking)"
   ]
  },
  {
   "cell_type": "markdown",
   "metadata": {},
   "source": [
    " ## Close the simulator\n",
    "\n",
    " **Only for Linux** !!! <br>\n",
    "=> Windows & Mac : close the CoppeliaSim window 'by hand'..."
   ]
  },
  {
   "cell_type": "code",
   "execution_count": null,
   "metadata": {},
   "outputs": [],
   "source": [
    "if platform.system() =='Linux':\n",
    "    simulator.end()\n",
    "else:\n",
    "    print(\"Windows & Mac : close the CoppeliaSim window 'by hand'...\")"
   ]
  }
 ],
 "metadata": {
  "interpreter": {
   "hash": "002f68281221231b3c07412c0c1cd2b8893d269a34ab00831ddd2776e364c5fd"
  },
  "kernelspec": {
   "name": "python3",
   "display_name": "Python 3.6.13 64-bit ('pyml': conda)"
  },
  "language_info": {
   "codemirror_mode": {
    "name": "ipython",
    "version": 3
   },
   "file_extension": ".py",
   "mimetype": "text/x-python",
   "name": "python",
   "nbconvert_exporter": "python",
   "pygments_lexer": "ipython3",
   "version": "3.6.13"
  }
 },
 "nbformat": 4,
 "nbformat_minor": 2
}