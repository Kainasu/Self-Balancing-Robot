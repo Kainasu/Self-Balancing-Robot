{
 "cells": [
  {
   "cell_type": "markdown",
   "metadata": {},
   "source": [
    "This notebook imports 2 modules from the directory `coppeliasim_api/env` :\n",
    "- sim.py\n",
    "- simConst.py \n",
    "\n",
    "It also needs the appropriate remote API library: \"remoteApi.dll\" (Windows), \"remoteApi.dylib\" (Mac) or \"remoteApi.so\" (Linux)\n",
    "\n",
    "The CoppeliaSim Python API is documented here: http://www.coppeliarobotics.com/helpFiles/en/remoteApiFunctionsPython.htm"
   ]
  },
  {
   "cell_type": "markdown",
   "metadata": {},
   "source": [
    "The cell bellow finds the relative path of the directory `coppeliasim_api/env` where the modules `sim` and `simConst` live:<br>\n",
    "if not found in the current working dir it tries recursively to find a parent directory that holds `coppeliasim_api/env`.<br>\n",
    "When found, it sets `root_dir` to this value and adds relevant paths to the list sys.path:"
   ]
  },
  {
   "cell_type": "markdown",
   "metadata": {},
   "source": [
    "### 1) Set up the notebook to run in project root, enable autoreload and make our python packages visibles"
   ]
  },
  {
   "cell_type": "code",
   "execution_count": 1,
   "metadata": {},
   "outputs": [
    {
     "name": "stdout",
     "output_type": "stream",
     "text": [
      "\troot directory: <../../>\n",
      "\tworking directory is now: </home/arthur/Documents/PFA/free-balancing-robot>\n"
     ]
    }
   ],
   "source": [
    "import sys, os\n",
    "\n",
    "# initialize default path values:\n",
    "target_dir = \"coppeliasim_api/env\"\n",
    "root_dir = os.getcwd()\n",
    "copsim_env_path = target_dir\n",
    "\n",
    "if not os.path.isdir(target_dir):\n",
    "    while not os.path.isdir(copsim_env_path):\n",
    "        copsim_env_path = os.path.join('..', copsim_env_path)\n",
    "    root_dir = copsim_env_path.replace(target_dir, \"\")\n",
    "\n",
    "# run notebook in root dir and add the required paths to sys.path:\n",
    "if  root_dir !=  os.getcwd():  \n",
    "    os.chdir(root_dir)\n",
    "sys.path.append(os.getcwd())\n",
    "\n",
    "print(f\"\\troot directory: <{root_dir}>\")\n",
    "print(f\"\\tworking directory is now: <{os.getcwd()}>\")\n",
    "\n",
    "# automatic reload of modules when modification\n",
    "%load_ext autoreload\n",
    "%autoreload 2"
   ]
  },
  {
   "cell_type": "code",
   "execution_count": 2,
   "metadata": {},
   "outputs": [],
   "source": [
    "if not \"/coppeliasim_api/env\" in sys.path: sys.path.append(\"./coppeliasim_api/env\")\n",
    "if not \"./ai/src/run\" in sys.path: sys.path.append(\"./ai/src/run\")\n",
    "#sys.path"
   ]
  },
  {
   "cell_type": "markdown",
   "metadata": {},
   "source": [
    "### 2) Create all of the parameters"
   ]
  },
  {
   "cell_type": "code",
   "execution_count": 3,
   "metadata": {},
   "outputs": [
    {
     "name": "stdout",
     "output_type": "stream",
     "text": [
      "4 training to launch....\n"
     ]
    },
    {
     "data": {
      "text/plain": [
       "['python',\n",
       " 'ai/src/run/train_model_copsim.py',\n",
       " '--config',\n",
       " 'ai/config/20001_balancingrobot_ppo_copsim.yaml',\n",
       " '--port',\n",
       " '20001']"
      ]
     },
     "execution_count": 3,
     "metadata": {},
     "output_type": "execute_result"
    }
   ],
   "source": [
    "#Parameters for the balancing robot :\n",
    "\n",
    "#Each possible argument combination will result in a new neural network\n",
    "env_params = {\n",
    "'theta_deg' : [12],\n",
    "'x_lim_m' : [10e-2],\n",
    "'velocity' : [3, 6],\n",
    "'rewards' : [0,1], \n",
    "'seeds' : [12345]\n",
    "}\n",
    "\n",
    "from ai.notebooks.tools import build_yaml_files_and_arguments_list\n",
    "\n",
    "cmd_list = build_yaml_files_and_arguments_list('balancingrobot', {}, env_params)\n",
    "print(f'{len(cmd_list)} trainings to launch....')\n",
    "cmd_list[0]"
   ]
  },
  {
   "cell_type": "markdown",
   "metadata": {},
   "source": [
    "### 3) Run the commands in threads, with a total of NbSubProcess processes at a time"
   ]
  },
  {
   "cell_type": "code",
   "execution_count": 4,
   "metadata": {},
   "outputs": [
    {
     "name": "stdout",
     "output_type": "stream",
     "text": [
      "number of cores : 8\n",
      "process <0:3454> starts in <ai/models/balancingrobot/BalancingRobotEnv_CopSim_PPO_22-04-28_12-51-14>\n",
      "process <1:3462> starts in <ai/models/balancingrobot/BalancingRobotEnv_CopSim_PPO_22-04-28_12-51-15>\n",
      "process <2:3466> starts in <ai/models/balancingrobot/BalancingRobotEnv_CopSim_PPO_22-04-28_12-51-16>\n",
      "process <3:3473> starts in <ai/models/balancingrobot/BalancingRobotEnv_CopSim_PPO_22-04-28_12-51-17>\n",
      "process 3466 has finished (duration: 3:47:49 sec\n",
      "process 3473 has finished (duration: 3:48:38 sec\n",
      "process 3462 has finished (duration: 3:51:30 sec\n",
      "process 3454 has finished (duration: 3:52:11 sec\n",
      "End of trainings! total duration: 3:52:21\n"
     ]
    }
   ],
   "source": [
    "from ai.notebooks.tools import run_training_multithread\n",
    "run_training_multithread('balancingrobot', cmd_list)"
   ]
  },
  {
   "cell_type": "code",
   "execution_count": null,
   "metadata": {},
   "outputs": [],
   "source": [
    "!killall -I coppelia"
   ]
  }
 ],
 "metadata": {
  "interpreter": {
   "hash": "c1d5ccf44a0ecbd3d9fcdae14229f1915fdedaa8f7d968cba9b39d3fdca8bb47"
  },
  "kernelspec": {
   "display_name": "Python 3 (ipykernel)",
   "language": "python",
   "name": "python3"
  },
  "language_info": {
   "codemirror_mode": {
    "name": "ipython",
    "version": 3
   },
   "file_extension": ".py",
   "mimetype": "text/x-python",
   "name": "python",
   "nbconvert_exporter": "python",
   "pygments_lexer": "ipython3",
   "version": "3.6.13"
  }
 },
 "nbformat": 4,
 "nbformat_minor": 4
}
